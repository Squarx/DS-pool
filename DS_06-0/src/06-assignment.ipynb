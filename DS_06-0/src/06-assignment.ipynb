{
 "cells": [
  {
   "cell_type": "markdown",
   "id": "f59af801-5930-4a03-984c-f3a63d29a5ba",
   "metadata": {},
   "source": [
    "# Задание "
   ]
  },
  {
   "cell_type": "code",
   "execution_count": 1,
   "id": "1ee4c5dc",
   "metadata": {},
   "outputs": [
    {
     "name": "stdout",
     "output_type": "stream",
     "text": [
      "Requirement already satisfied: sympy in c:\\users\\dimasx\\anaconda3\\lib\\site-packages (1.9)\n",
      "Requirement already satisfied: mpmath>=0.19 in c:\\users\\dimasx\\anaconda3\\lib\\site-packages (from sympy) (1.2.1)\n",
      "Note: you may need to restart the kernel to use updated packages.\n"
     ]
    }
   ],
   "source": [
    "pip install sympy"
   ]
  },
  {
   "cell_type": "code",
   "execution_count": 2,
   "id": "de25621d-4eda-459b-a1da-2c21813eea1c",
   "metadata": {},
   "outputs": [],
   "source": [
    "import matplotlib.pyplot as plt\n",
    "import numpy as np\n",
    "import sympy as sp\n"
   ]
  },
  {
   "cell_type": "markdown",
   "id": "35d995e1-34e1-450c-a88d-96104b2df726",
   "metadata": {},
   "source": [
    "## Task 1\n",
    "1. Установи библиотеку sympy.\n",
    "2. Используя ее функции, напиши свою функцию, которая на вход примет математическую функцию $ y=f(x)$ вида $x^2 - x + 21$, и вернёт производную: $2𝑥−1$."
   ]
  },
  {
   "cell_type": "code",
   "execution_count": 3,
   "id": "7770b531",
   "metadata": {},
   "outputs": [
    {
     "data": {
      "text/latex": [
       "$\\displaystyle 2 x - 1$"
      ],
      "text/plain": [
       "2*x - 1"
      ]
     },
     "execution_count": 3,
     "metadata": {},
     "output_type": "execute_result"
    }
   ],
   "source": [
    "\n",
    "def differentiation(Fx):\n",
    "    if type(Fx) is str:\n",
    "        # x = Symbol('x')\n",
    "        try:\n",
    "            Fx =    sp.sympify(Fx)\n",
    "        except ValueError:\n",
    "            print(\"Invalid string\")\n",
    "    return Fx.diff('x')\n",
    "\n",
    "differentiation(\"x**2 - x + 21\")"
   ]
  },
  {
   "cell_type": "markdown",
   "id": "f0c49d13-79db-469a-be74-bd41777ef05a",
   "metadata": {},
   "source": [
    "## Task 2\n",
    "В этот раз напиши свою функцию, которая на вход примет математическую функцию $p = f(x, y)$, зависящую от двух переменных вида $ (x-y)^2 $, а также ту переменную, по которой нужно посчитать частную производную. Функция должна вернуть частную производную этой переменной: $2𝑥−2𝑦$."
   ]
  },
  {
   "cell_type": "code",
   "execution_count": 4,
   "id": "a70e7ca8",
   "metadata": {},
   "outputs": [
    {
     "data": {
      "text/latex": [
       "$\\displaystyle 2 x - 2 y$"
      ],
      "text/plain": [
       "2*x - 2*y"
      ]
     },
     "execution_count": 4,
     "metadata": {},
     "output_type": "execute_result"
    }
   ],
   "source": [
    "def custom_differentiation(Fxy, var):\n",
    "    x = sp.Symbol('x')\n",
    "    y = sp.Symbol('y')\n",
    "    if type(Fxy) is str:\n",
    "    \n",
    "        try:\n",
    "            Fxy =    sp.sympify(Fxy)\n",
    "        except ValueError:\n",
    "            print(\"Invalid string\")\n",
    "    if type(var) is str:\n",
    "        try:\n",
    "            var = sp.sympify(var)\n",
    "        except:\n",
    "            print(\"Invalid string\")\n",
    "    return sp.diff(Fxy, var)\n",
    "\n",
    "\n",
    "custom_differentiation(\"(x-y)**2\", \"y\")\n",
    "custom_differentiation(\"(x-y)**2\", \"x\")\n"
   ]
  },
  {
   "cell_type": "markdown",
   "id": "30c90ce8-7a46-4803-809a-fd037adeea44",
   "metadata": {},
   "source": [
    "## Task 3"
   ]
  },
  {
   "cell_type": "markdown",
   "id": "aea0c68c-85e2-4ec0-b748-7f9b3096e6d8",
   "metadata": {},
   "source": [
    "1. Тебе надо написать математическую функцию. Представь, что у тебя есть y_true и есть y_pred (предсказанное). Тебе надо посчитать квадрат отклонения одного от другого. Причём предсказанное значение получается при помощи функции линейной регрессии: y = wx +b. Дополнительно поделим всё это на n.\n",
    "2. Нужно написать функцию Python, которая примет на вход эту функцию и ту переменную, по которой нам надо посчитать частные производные. Нас будут интересовать w и b. Именно их наилучшие значения мы и будем в дальнейшем искать. Функция должна вернуть производные сразу по обеим этим переменным."
   ]
  },
  {
   "cell_type": "code",
   "execution_count": 5,
   "id": "d23a4cc0",
   "metadata": {},
   "outputs": [
    {
     "data": {
      "text/plain": [
       "(-2*x*(-b - w*x + y)/n, (2*b + 2*w*x - 2*y)/n)"
      ]
     },
     "execution_count": 5,
     "metadata": {},
     "output_type": "execute_result"
    }
   ],
   "source": [
    "x, y, w, b, n = sp.symbols('x y w b n')\n",
    "func=(( y - ( w*x + b))**2) / n\n",
    "\n",
    "\n",
    "def diff_03(F, var1, var2):\n",
    "    return (sp.diff(F, var1), sp.diff(F, var2))\n",
    "\n",
    "diff_03(func, w, b)"
   ]
  },
  {
   "cell_type": "markdown",
   "id": "75ea75df-da98-4687-b921-47e1eb0b63cb",
   "metadata": {},
   "source": [
    "## Task 4\n",
    "1. В этот раз вам надо написать класс `Gradient()`, который будет состоять из нескольких методов. Объект при инициализации получает два вектора: `X`, `Y`. Далее методы обращаются к ним уже внутри класса.\n",
    "    - `predict`: на вход она получает `w`, `b`, на выход она выдаёт прогнозные значения `Y_pred`;\n",
    "    - `mse`: на вход она получает `Y_pred`, на выход выдает посчитанное MSE;\n",
    "    - `update`: на вход она получает `Y_pred`, `w`, `b`; на выход выдаёт новые значения `w`, `b`, которые обновились благодаря посчитанным градиентам.\n",
    "2. Проверить работу методов, подав на вход класса два вектора `X`, `Y` и начальные параметры `w`, `b` в требуемые методы."
   ]
  },
  {
   "cell_type": "code",
   "execution_count": 6,
   "id": "b4bb1337-6f9c-49dc-bbc0-5952b12121ae",
   "metadata": {},
   "outputs": [],
   "source": [
    "X = np.array(\n",
    "    [32.50234527, 53.42680403, 61.53035803, 47.47563963, 59.81320787, 55.14218841, \n",
    "     52.21179669, 39.29956669, 48.10504169, 52.55001444, 45.41973014, 54.35163488, \n",
    "     44.1640495 , 58.16847072, 56.72720806, 48.95588857, 44.68719623, 60.29732685, \n",
    "     45.61864377, 38.81681754]\n",
    ")\n",
    "Y = np.array(\n",
    "    [31.70700585, 68.77759598, 62.5623823 , 71.54663223, 87.23092513, 78.21151827, \n",
    "     79.64197305, 59.17148932, 75.3312423 , 71.30087989, 55.16567715, 82.47884676, \n",
    "     62.00892325, 75.39287043, 81.43619216, 60.72360244, 82.89250373, 97.37989686, \n",
    "     48.84715332, 56.87721319]\n",
    ")"
   ]
  },
  {
   "cell_type": "code",
   "execution_count": 7,
   "id": "2b5a7a87-eb43-456f-adf3-add9b502e3e1",
   "metadata": {},
   "outputs": [
    {
     "data": {
      "image/png": "[encoded data removed]",
      "text/plain": [
       "<Figure size 720x720 with 1 Axes>"
      ]
     },
     "metadata": {
      "needs_background": "light"
     },
     "output_type": "display_data"
    }
   ],
   "source": [
    "\n",
    "\n",
    "plt.figure(figsize=(10,10))\n",
    "plt.scatter(X, Y);"
   ]
  },
  {
   "cell_type": "code",
   "execution_count": 8,
   "id": "99ad34a1-5c67-4430-84ad-dc77ac8b657f",
   "metadata": {},
   "outputs": [],
   "source": [
    "class Gradient:\n",
    "    def __init__(self, X, Y):\n",
    "        self.__X = X\n",
    "        self.__Y = Y\n",
    "        \n",
    "    def solver_w(self, w, b):\n",
    "        return np.sum(-2*self.__X * (  -b - w * self.__X + self.__Y)) / len(self.__Y)\n",
    "    \n",
    "    def solver_b(self, w, b):\n",
    "        return np.sum(2*b + 2 * w *self.__X - 2 * self.__Y) / len(self.__Y)\n",
    "\n",
    "    def predict(self, w, b):\n",
    "        return np.array(w * self.__X + b)\n",
    "    \n",
    "    def mse(self, Y_pred):\n",
    "        mse = np.sum((self.__Y - Y_pred)**2) / len(Y_pred)\n",
    "        return mse\n",
    "        \n",
    "    def update(self, w, b, a=0.0001):\n",
    "        pa_w = self.solver_w(w, b)\n",
    "        pa_b = self.solver_b(w, b)\n",
    "        w = w - a * pa_w\n",
    "        b = b - a * pa_b\n",
    "        return (w, b)\n",
    "\n",
    "        "
   ]
  },
  {
   "cell_type": "code",
   "execution_count": 9,
   "id": "9279bb6c",
   "metadata": {},
   "outputs": [
    {
     "data": {
      "text/plain": [
       "1784.8517253411974"
      ]
     },
     "execution_count": 9,
     "metadata": {},
     "output_type": "execute_result"
    }
   ],
   "source": [
    "test = Gradient(X, Y)\n",
    "m = test.predict(w=0.5, b=4)\n",
    "mse = test.mse(m)\n",
    "mse"
   ]
  },
  {
   "cell_type": "markdown",
   "id": "f2f68272-33ed-4c97-a97e-4216b1ab2ef4",
   "metadata": {},
   "source": [
    "## Task 5\n",
    "Улучши код таким образом, чтобы появился метод `optimize`. Он должен итеративным образом пройти какое-то количество раз обновление значений `w`, `b`, придя к оптимальному значению. Критерии останова:\n",
    " - если было превышено количество заранее заданных итераций `num_iterations`;\n",
    " - если новая итерация выдала разницу между текущей ошибкой и ошибкой прошлой итерации значение, меньшее, чем `stopping_threshold`;\n",
    " - метод должен вернуть финальные значения `w`, `b`, и `mse`.\n"
   ]
  },
  {
   "cell_type": "code",
   "execution_count": 20,
   "id": "07200188-e4ff-4c8b-a2a7-42de3772f11a",
   "metadata": {},
   "outputs": [],
   "source": [
    "class GradientDescent(Gradient):\n",
    "    \n",
    "    def __init__(self, X, Y):\n",
    "        super().__init__(X, Y)\n",
    "    def optimize(self, num_iterations=200000, learning_rate = 0.0001):\n",
    "        stopping_threshold = 1e-6\n",
    "        w, b = 0, 0\n",
    "        n = len(X)\n",
    "        w_list, b_list, l_list = [], [], []\n",
    "        for i in range(num_iterations):\n",
    "            # добавим в списки текущие веса\n",
    "            mse_curr = self.mse(self.predict(w=w, b=b))\n",
    "            w_list.append(w)\n",
    "            b_list.append(b)\n",
    "            # и уровень ошибки\n",
    "            l_list.append(mse_curr)\n",
    "            # рассчитаем текущее значение частных производных\n",
    "            w, b = self.update(w = w, b = b, a =learning_rate)\n",
    "            if mse_curr - self.mse(self.predict(w=w, b=b)) < stopping_threshold or i > 200000:\n",
    "                break\n",
    "            # выведем списки с уровнями ошибки и весами\n",
    "        return w_list[-1], b_list[-1], l_list[-1]"
   ]
  },
  {
   "cell_type": "code",
   "execution_count": 22,
   "id": "a661240b",
   "metadata": {},
   "outputs": [
    {
     "name": "stdout",
     "output_type": "stream",
     "text": [
      "1.3898878424064032 0.02706099488749466 98.63772259590434\n"
     ]
    }
   ],
   "source": [
    "test = GradientDescent(X, Y)\n",
    "\n",
    "w_fin, b_fin, mse_fin = test.optimize(num_iterations = 200000, learning_rate = 0.0001)\n",
    "print(w_fin, b_fin, mse_fin)\n"
   ]
  },
  {
   "cell_type": "code",
   "execution_count": 23,
   "id": "0dc5b70c",
   "metadata": {},
   "outputs": [
    {
     "data": {
      "image/png": "[encoded data removed]",
      "text/plain": [
       "<Figure size 720x576 with 1 Axes>"
      ]
     },
     "metadata": {
      "needs_background": "light"
     },
     "output_type": "display_data"
    }
   ],
   "source": [
    "\n",
    "plt.figure(figsize = (10, 8))\n",
    "plt.scatter(X, Y)\n",
    "plt.plot(X, test.predict(w_fin, b_fin), 'r')\n",
    "plt.show()"
   ]
  },
  {
   "cell_type": "code",
   "execution_count": 13,
   "id": "9720f295",
   "metadata": {},
   "outputs": [
    {
     "name": "stdout",
     "output_type": "stream",
     "text": [
      "-x*(-3*x + y - 1)/10 3*x/10 - y/10 + 1/10\n",
      "-x*(-3*x + y - 1)/10\n",
      "3*x/10 - y/10 + 1/10\n"
     ]
    }
   ],
   "source": [
    "import numpy as np\n",
    "import sympy as sp\n",
    "X = np.array(\n",
    "    [32.50234527, 53.42680403, 61.53035803, 47.47563963, 59.81320787, 55.14218841, \n",
    "     52.21179669, 39.29956669, 48.10504169, 52.55001444, 45.41973014, 54.35163488, \n",
    "     44.1640495 , 58.16847072, 56.72720806, 48.95588857, 44.68719623, 60.29732685, \n",
    "     45.61864377, 38.81681754]\n",
    ")\n",
    "Y = np.array(\n",
    "    [31.70700585, 68.77759598, 62.5623823 , 71.54663223, 87.23092513, 78.21151827, \n",
    "     79.64197305, 59.17148932, 75.3312423 , 71.30087989, 55.16567715, 82.47884676, \n",
    "     62.00892325, 75.39287043, 81.43619216, 60.72360244, 82.89250373, 97.37989686, \n",
    "     48.84715332, 56.87721319]\n",
    ")\n",
    "def test(x_val, y_val, b_val, w_val):\n",
    "    n_val = len(x_val)\n",
    "    x, y, w, b, n = sp.symbols('x y w b n')\n",
    "    func=(( y - ( w*x + b))**2) / n\n",
    "    dw = sp.diff(func, w)\n",
    "    db = sp.diff(func, b)\n",
    "    # print(dw, db, type(dw))\n",
    "    dw_val = dw.subs([(x, X), (y, Y), (b, b_val), (w, w_val), (n, n_val)])\n",
    "    db_val = db.subs([(x, X), (y, Y), (b, b_val), (w, w_val), (n, n_val)])\n",
    "    print(dw_val, db_val)\n",
    "    return np.sum(dw_val), np.sum(db_val)\n",
    "\n",
    "# Задаем значения переменных\n",
    "\n",
    "b_val = 1\n",
    "w_val = 3\n",
    "\n",
    "# Вызываем функцию test\n",
    "dw_result, db_result = test(X, Y, b_val, w_val)\n",
    "\n",
    "print(dw_result) # Выводит значение dw после подстановки значений переменных\n",
    "print(db_result) # Выводит значение db после подстановки значений переменных"
   ]
  },
  {
   "cell_type": "code",
   "execution_count": 14,
   "id": "ee9eca2b",
   "metadata": {},
   "outputs": [
    {
     "name": "stdout",
     "output_type": "stream",
     "text": [
      "1000\n"
     ]
    }
   ],
   "source": [
    "a_val = np.array([10, 20])\n",
    "b_val = np.array([20, 40])\n",
    "\n",
    "\n",
    "np_val = np.sum(a_val * b_val)\n",
    "print(np_val)\n",
    "\n",
    "a, b = sp.symbols(\"a b\")\n",
    "f1 = ((a + b) * 2)\n"
   ]
  },
  {
   "cell_type": "code",
   "execution_count": null,
   "id": "e68d9fc3",
   "metadata": {},
   "outputs": [],
   "source": []
  }
 ],
 "metadata": {
  "interpreter": {
   "hash": "aee8b7b246df8f9039afb4144a1f6fd8d2ca17a180786b69acc140d282b71a49"
  },
  "kernelspec": {
   "display_name": "Python 3.7.9 64-bit",
   "language": "python",
   "name": "python3"
  },
  "language_info": {
   "codemirror_mode": {
    "name": "ipython",
    "version": 3
   },
   "file_extension": ".py",
   "mimetype": "text/x-python",
   "name": "python",
   "nbconvert_exporter": "python",
   "pygments_lexer": "ipython3",
   "version": "3.9.7"
  }
 },
 "nbformat": 4,
 "nbformat_minor": 5
}
