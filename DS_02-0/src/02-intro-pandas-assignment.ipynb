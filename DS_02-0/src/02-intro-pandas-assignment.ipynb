{
 "cells": [
  {
   "cell_type": "markdown",
   "metadata": {},
   "source": [
    "# Задание"
   ]
  },
  {
   "cell_type": "code",
   "execution_count": 3,
   "metadata": {},
   "outputs": [],
   "source": [
    "import pandas as pd\n",
    "import numpy as np\n",
    "data = pd.read_csv(\"../datasets/kaggle_survey_2022_responses.csv\", low_memory=False)\n",
    "tmp2 = data.iloc[0].loc['Q2'] # строка индекс 0 столбец с названием Q2\n",
    "data['Q2'].iloc[2] # столбец с названием Q2 | строка 2\n",
    "data['Q2'].value_counts() # столбец с названием Q2 | с выводом подсчета количества значений\n",
    "data['Q2'].value_counts().idxmax() # # столбец с названием Q2 | с выводом макс id строки\n",
    "data.drop(0, inplace=True)"
   ]
  },
  {
   "cell_type": "markdown",
   "metadata": {},
   "source": []
  },
  {
   "cell_type": "markdown",
   "metadata": {},
   "source": [
    "Узнай самый часто встречаемый возраст респондентов"
   ]
  },
  {
   "cell_type": "markdown",
   "metadata": {},
   "source": []
  },
  {
   "cell_type": "code",
   "execution_count": 2,
   "metadata": {},
   "outputs": [
    {
     "name": "stdout",
     "output_type": "stream",
     "text": [
      "Age 18-21 with cnt 4559\n"
     ]
    }
   ],
   "source": [
    "age = data['Q2'].value_counts().idxmax()\n",
    "cnt = data['Q2'].value_counts().max()\n",
    "print(f'Age {age} with cnt {cnt}')"
   ]
  },
  {
   "cell_type": "markdown",
   "metadata": {},
   "source": [
    "## Задание 2"
   ]
  },
  {
   "cell_type": "markdown",
   "metadata": {},
   "source": [
    "Посчитай долю женщин среди русских участником опроса, которые уже не студенты. Результат округли до 2х цифры после запятой"
   ]
  },
  {
   "cell_type": "code",
   "execution_count": 3,
   "metadata": {},
   "outputs": [
    {
     "data": {
      "text/plain": [
       "0.24"
      ]
     },
     "execution_count": 3,
     "metadata": {},
     "output_type": "execute_result"
    }
   ],
   "source": [
    "all = ((data['Q5'].str.contains('No')) &  (data['Q4'] == 'Russia'))\n",
    "# print(all)\n",
    "all_sum = all.sum()\n",
    "women_cnt = ((data['Q5'].str.contains('No')) &  (data['Q4'] == 'Russia' ) & (data['Q3'] == 'Woman')).sum()\n",
    "round(women_cnt/all_sum, 2)"
   ]
  },
  {
   "cell_type": "markdown",
   "metadata": {},
   "source": [
    "## Задание 3"
   ]
  },
  {
   "cell_type": "markdown",
   "metadata": {},
   "source": [
    "Найди среднее время заполнения опроса в **минутах**. Результат округли до 2х знаков после запятой"
   ]
  },
  {
   "cell_type": "code",
   "execution_count": 4,
   "metadata": {},
   "outputs": [
    {
     "data": {
      "text/plain": [
       "168.17"
      ]
     },
     "execution_count": 4,
     "metadata": {},
     "output_type": "execute_result"
    }
   ],
   "source": [
    "time = (data['Duration (in seconds)'])\n",
    "round(time.astype(int).mean() / 60 ,2)\n"
   ]
  },
  {
   "cell_type": "markdown",
   "metadata": {},
   "source": [
    "## Задание 4"
   ]
  },
  {
   "cell_type": "markdown",
   "metadata": {},
   "source": [
    "Выведи топ-3 образовательных курса, которые указали респонденты. P.S Это вопрос Q6"
   ]
  },
  {
   "cell_type": "code",
   "execution_count": 6,
   "metadata": {},
   "outputs": [
    {
     "data": {
      "text/plain": [
       "Coursera                                                 9699\n",
       "University Courses (resulting in a university degree)    6780\n",
       "Kaggle Learn Courses                                     6628\n",
       "Name: value, dtype: int64"
      ]
     },
     "execution_count": 6,
     "metadata": {},
     "output_type": "execute_result"
    }
   ],
   "source": [
    "q6_columns = [col for col in data.columns if col.startswith('Q6')]\n",
    "# data[q6_columns]\n",
    "platforms = data[q6_columns].melt(var_name='Из колонки', value_vars=q6_columns)\n",
    "platforms['value'].value_counts().iloc[:3]\n"
   ]
  },
  {
   "cell_type": "markdown",
   "metadata": {},
   "source": [
    "## Задание 5"
   ]
  },
  {
   "cell_type": "markdown",
   "metadata": {},
   "source": [
    "Узнай топ-5 языков программирования, которые регулярно используют Data Scientists в своей работе"
   ]
  },
  {
   "cell_type": "markdown",
   "metadata": {},
   "source": [
    "Узнай средний доход 'Data Scientist' и 'Machine Learning/ MLops Engineer' \\\n",
    "Т.к в колонке Q29 у на промежуток, то возьмите среднее значение из промежкутка. Например '15,000-19,999' - 17500, '125,000-149,999' - 137500. >$1,000,000 - оставляем 1000000"
   ]
  },
  {
   "cell_type": "code",
   "execution_count": 8,
   "metadata": {},
   "outputs": [
    {
     "data": {
      "text/plain": [
       "Python        1808\n",
       "SQL           1140\n",
       "R              530\n",
       "Bash           248\n",
       "Javascript     187\n",
       "Name: value, dtype: int64"
      ]
     },
     "execution_count": 8,
     "metadata": {},
     "output_type": "execute_result"
    }
   ],
   "source": [
    "\n",
    "data_only_science = data[data['Q23'] == 'Data Scientist']\n",
    "q12 = [col for col in data.columns if (col.startswith('Q12'))]\n",
    "data_only_science[q12].melt()['value'].value_counts().head(5)\n"
   ]
  },
  {
   "cell_type": "markdown",
   "metadata": {},
   "source": [
    "## Задание 6"
   ]
  },
  {
   "cell_type": "code",
   "execution_count": 5,
   "metadata": {},
   "outputs": [
    {
     "name": "stdout",
     "output_type": "stream",
     "text": [
      "70337.23653395784 67437.74703557312\n"
     ]
    }
   ],
   "source": [
    "Ds  = data[data['Q23'] == 'Data Scientist']\n",
    "ds_lst = Ds['Q29'].dropna().to_list()\n",
    "Ml  = data[data['Q23'] == 'Machine Learning/ MLops Engineer']\n",
    "ml_lst = Ml['Q29'].dropna().to_list()\n",
    "# qq = data[data['Q23'] == 'Machine Learning/ MLops Engineer']['Q29'].dropna()\n",
    "def mean_from_lst(ds_lst):\n",
    "    salary = []\n",
    "    trans_table = str.maketrans({'-': ' ', '>' : '', '<' : '', ',' : '', '$' : ''})\n",
    "    for token in ds_lst:\n",
    "        token = token.translate(trans_table)\n",
    "        token = token.split()\n",
    "        if (len(token)  == 2):\n",
    "            token = int((int(token[0]) + int(token[1])  + 1) / 2)\n",
    "        else:\n",
    "            token = int(token[0])\n",
    "        salary.append(token)\n",
    "    return np.mean(salary)\n",
    "print(mean_from_lst(ds_lst) ,mean_from_lst(ml_lst))\n"
   ]
  },
  {
   "cell_type": "markdown",
   "metadata": {},
   "source": [
    "## Задание 7 - Дополнительное задание"
   ]
  },
  {
   "cell_type": "markdown",
   "metadata": {},
   "source": [
    "Найдите какой-нибудь интересный инсайт из этих данных. Пишите свои интересные инсайты в чат проекта с хэштегом.\n",
    "#инсайт\n",
    "\n",
    "Автор самого интересного инсайта получит p2p баллы. Поверь, они тебе понадобятся"
   ]
  },
  {
   "attachments": {},
   "cell_type": "markdown",
   "metadata": {},
   "source": [
    "Небольшой конспект"
   ]
  },
  {
   "cell_type": "code",
   "execution_count": 4,
   "metadata": {},
   "outputs": [
    {
     "name": "stdout",
     "output_type": "stream",
     "text": [
      "9699\n"
     ]
    },
    {
     "data": {
      "text/plain": [
       "Python        1808\n",
       "SQL           1140\n",
       "R              530\n",
       "Bash           248\n",
       "Javascript     187\n",
       "Name: value, dtype: int64"
      ]
     },
     "execution_count": 4,
     "metadata": {},
     "output_type": "execute_result"
    }
   ],
   "source": [
    "# t = data[data['Q2'] == '30-34']['Q2'].value_counts()\n",
    "data[['Q2', 'Q3']]\n",
    "data.loc[[5, 10, 15],['Q2', 'Q3']] # по названию\n",
    "data.iloc[[4, 9, 14],[1, 2]] # по индексу\n",
    "data.iloc[[4, 9, 14], 1:3] # по индексу\n",
    "data['Duration (in seconds)'] == '851' # булевая маска\n",
    "data[data['Duration (in seconds)'] == '851'].iloc[::1 , 0]\n",
    "data[data['Duration (in seconds)'].isin(['851', '1550'])].iloc[::1 , 0] # isin(['851', '1550'])] сравнивает со множетсвом\n",
    "data[(data['Duration (in seconds)'] == '851') | (data['Duration (in seconds)'] == '1550')].iloc[::1 , 0] \n",
    "data['Q6_1']\n",
    "print(data['Q6_1'].notna().sum()) # маска без пустых клеток notna || isna\n",
    "# data[data['Duration (in seconds)'] > 200]\n",
    "data.sort_values(['Duration (in seconds)', 'Q2'], ascending=[False, True]).iloc[0:10, 0:2] # сортировка \n",
    "data.groupby('Q5')['Q3'].describe() # agg(['mean', 'median'])\n",
    "data.groupby(['Q5', 'Q3'])['Q4'].describe()\n",
    "data['Q5'].value_counts() # == data.groupby(['Q5'])[['Q5']].count()\n",
    "tmp = data.iloc[0:10, 0:6]\n",
    "tmp.melt(id_vars=['Q2', 'Q3', 'Q4'])\n",
    "\n",
    "data_only_science = data[data['Q23'].isin(['Data Scientist'])]\n",
    "q12 = [col for col in data.columns if (col.startswith('Q12'))]\n",
    "# data_only_science[q12].melt().iloc[::1, 1].dropna().value_counts().head(5)\n",
    "\n",
    "\n",
    " # melt типо разворот таблицы\n",
    "data_only_science.melt(value_vars= q12)['value'].value_counts().head(5)"
   ]
  },
  {
   "attachments": {},
   "cell_type": "markdown",
   "metadata": {},
   "source": [
    "Задание 7:\n",
    "Определение страны c самой большой и маленькой зарплатой  и вывод на экран статистики зарплат по всем странам"
   ]
  },
  {
   "cell_type": "code",
   "execution_count": 6,
   "metadata": {},
   "outputs": [
    {
     "name": "stdout",
     "output_type": "stream",
     "text": [
      "Max_average salary is 149769.00278940029 in United States of America\n",
      "Min_average salary is 2712.121212121212 in Ethiopia\n",
      "                                                                0\n",
      "India                                                25065.399485\n",
      "United States of America                            149769.002789\n",
      "Other                                                41443.737769\n",
      "Brazil                                               33733.732877\n",
      "Nigeria                                               7511.006289\n",
      "Pakistan                                              9755.725191\n",
      "Japan                                                49524.024024\n",
      "China                                                37858.796296\n",
      "Egypt                                                20340.659341\n",
      "Mexico                                               27347.122302\n",
      "Indonesia                                            11162.735849\n",
      "Turkey                                               26539.473684\n",
      "Russia                                               20989.130435\n",
      "South Korea                                          49675.572519\n",
      "France                                               83633.211679\n",
      "United Kingdom of Great Britain and Northern Ir...   99991.007194\n",
      "Spain                                                52510.714286\n",
      "Canada                                               85322.649573\n",
      "Colombia                                             26036.516854\n",
      "Bangladesh                                           11267.441860\n",
      "Taiwan                                               36640.909091\n",
      "Viet Nam                                             11527.272727\n",
      "Argentina                                            16597.972973\n",
      "Kenya                                                15389.534884\n",
      "Italy                                                42766.853933\n",
      "Morocco                                              34898.809524\n",
      "Australia                                           135362.068966\n",
      "Thailand                                             27774.509804\n",
      "Tunisia                                              19200.000000\n",
      "Peru                                                 15218.750000\n",
      "Iran, Islamic Republic of...                          9034.482759\n",
      "Chile                                                25347.222222\n",
      "Poland                                               41506.756757\n",
      "South Africa                                         35540.540541\n",
      "Philippines                                          13489.583333\n",
      "Netherlands                                          71354.166667\n",
      "Ghana                                                20500.000000\n",
      "Israel                                              132512.195122\n",
      "Germany                                              76156.250000\n",
      "Ethiopia                                              2712.121212\n",
      "United Arab Emirates                                 71970.588235\n",
      "Portugal                                             44505.952381\n",
      "Saudi Arabia                                         47500.000000\n",
      "Ukraine                                              23738.636364\n",
      "Sri Lanka                                            48687.500000\n",
      "Nepal                                                24807.692308\n",
      "Malaysia                                             18267.857143\n",
      "Singapore                                            77081.081081\n",
      "Cameroon                                             13366.666667\n",
      "Algeria                                               4000.000000\n",
      "Hong Kong (S.A.R.)                                   58980.769231\n",
      "Zimbabwe                                            143750.000000\n",
      "Ecuador                                              20083.333333\n",
      "Ireland                                              89233.333333\n",
      "Belgium                                              65409.090909\n",
      "Romania                                              32931.818182\n",
      "Czech Republic                                       61490.384615\n",
      "I do not wish to disclose my location                31625.000000\n"
     ]
    }
   ],
   "source": [
    "countrries = [k for k,v in data['Q4'].value_counts().to_dict().items()]\n",
    "salaries = [mean_from_lst(data[data['Q4'] == counry]['Q29'].dropna().to_list()) for counry in countrries]\n",
    "uniq_and_fifa = dict(zip(salaries, countrries))\n",
    "val_max = sorted(uniq_and_fifa, reverse=True)[0]\n",
    "val_min = sorted(uniq_and_fifa, reverse=False)[0]\n",
    "print(f'Max_average salary is {val_max} in {uniq_and_fifa[val_max]}\\nMin_average salary is {val_min} in {uniq_and_fifa[val_min]}')\n",
    "print(pd.DataFrame(index=uniq_and_fifa.values(), data=uniq_and_fifa.keys()))"
   ]
  }
 ],
 "metadata": {
  "kernelspec": {
   "display_name": "Python 3",
   "language": "python",
   "name": "python3"
  },
  "language_info": {
   "codemirror_mode": {
    "name": "ipython",
    "version": 3
   },
   "file_extension": ".py",
   "mimetype": "text/x-python",
   "name": "python",
   "nbconvert_exporter": "python",
   "pygments_lexer": "ipython3",
   "version": "3.10.4"
  },
  "vscode": {
   "interpreter": {
    "hash": "d674747d22b8babf9c894eebe6f21e98f60304649489e43b808ee077bac2c2f5"
   }
  }
 },
 "nbformat": 4,
 "nbformat_minor": 4
}
