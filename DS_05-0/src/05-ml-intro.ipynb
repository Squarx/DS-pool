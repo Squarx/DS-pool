{
 "cells": [
  {
   "cell_type": "markdown",
   "id": "55ad31fb-70d6-46e6-942f-828f5ce4fa17",
   "metadata": {},
   "source": [
    "# Введение в машинное обучени"
   ]
  },
  {
   "cell_type": "code",
   "execution_count": 1,
   "id": "6719b140-0710-4d4c-a50c-121054de036f",
   "metadata": {},
   "outputs": [],
   "source": [
    "import pandas as pd\n",
    "import numpy as np\n",
    "import matplotlib.pyplot as plt\n",
    "import seaborn as sns\n",
    "%matplotlib inline"
   ]
  },
  {
   "cell_type": "code",
   "execution_count": 2,
   "id": "5b5c79f1-7650-465b-a054-f3eaff986d67",
   "metadata": {},
   "outputs": [],
   "source": [
    "sns.set_style(\"darkgrid\") #у графиков будет красивая серая подложка"
   ]
  },
  {
   "cell_type": "markdown",
   "id": "00677bd2-9440-42d4-86c0-9eea373af950",
   "metadata": {},
   "source": [
    "Также с этого дня ты начнешь работать с библиотекой `scikit-learn`, в которой как раз много удобных функций и методов для машинного обучения и предобработки данных. Но ее мы будем добавлять точечно по ходу процесса анализа данных для большей наглядности. "
   ]
  },
  {
   "cell_type": "markdown",
   "id": "ab378eb8-18e0-4708-8f4b-df42b5d0c446",
   "metadata": {},
   "source": [
    "## Демонстрационный датасет"
   ]
  },
  {
   "cell_type": "markdown",
   "id": "d2bbc203-1f80-4e57-b776-9d6d6928ff10",
   "metadata": {},
   "source": [
    "Рассмотрим датасет вин. Есть вина, произведенные на трех разных виноградниках. Нужно научиться определять какое вино относится к какому винограднику. Нашу задачу сократим для удобства до двух виноградников и только двух признаков: процент алкоголя и уровень пролина (аминокислота, входящая в состав вин)."
   ]
  },
  {
   "cell_type": "code",
   "execution_count": 3,
   "id": "332c63d6-bc44-445c-82bb-1d113a5408f4",
   "metadata": {},
   "outputs": [],
   "source": [
    "from sklearn.datasets import load_wine"
   ]
  },
  {
   "cell_type": "code",
   "execution_count": 4,
   "id": "bfa6eb9d-04a6-4a66-b8c7-43b38979f219",
   "metadata": {},
   "outputs": [],
   "source": [
    "data = load_wine()\n",
    "wine_df = pd.DataFrame(data.data, columns=data.feature_names)\n",
    "wine_df.insert(13, 'CLASS', data.target)\n",
    "wine_two_classes = wine_df.loc[(wine_df.CLASS == 0) | (wine_df.CLASS == 1)]\n",
    "wine_ready = wine_two_classes[['alcohol', 'proline', 'CLASS']]"
   ]
  },
  {
   "cell_type": "code",
   "execution_count": 25,
   "id": "be3776d8-7c8f-41b5-ad52-107dc80df64b",
   "metadata": {},
   "outputs": [
    {
     "data": {
      "text/html": [
       "<div>\n",
       "<style scoped>\n",
       "    .dataframe tbody tr th:only-of-type {\n",
       "        vertical-align: middle;\n",
       "    }\n",
       "\n",
       "    .dataframe tbody tr th {\n",
       "        vertical-align: top;\n",
       "    }\n",
       "\n",
       "    .dataframe thead th {\n",
       "        text-align: right;\n",
       "    }\n",
       "</style>\n",
       "<table border=\"1\" class=\"dataframe\">\n",
       "  <thead>\n",
       "    <tr style=\"text-align: right;\">\n",
       "      <th></th>\n",
       "      <th>alcohol</th>\n",
       "      <th>proline</th>\n",
       "      <th>CLASS</th>\n",
       "    </tr>\n",
       "  </thead>\n",
       "  <tbody>\n",
       "    <tr>\n",
       "      <th>0</th>\n",
       "      <td>14.23</td>\n",
       "      <td>1065.0</td>\n",
       "      <td>0</td>\n",
       "    </tr>\n",
       "    <tr>\n",
       "      <th>1</th>\n",
       "      <td>13.20</td>\n",
       "      <td>1050.0</td>\n",
       "      <td>0</td>\n",
       "    </tr>\n",
       "  </tbody>\n",
       "</table>\n",
       "</div>"
      ],
      "text/plain": [
       "   alcohol  proline  CLASS\n",
       "0    14.23   1065.0      0\n",
       "1    13.20   1050.0      0"
      ]
     },
     "execution_count": 25,
     "metadata": {},
     "output_type": "execute_result"
    }
   ],
   "source": [
    "wine_ready.head(2)"
   ]
  },
  {
   "cell_type": "markdown",
   "id": "4f8ab8d6-efc6-45c2-a6a3-f872ef1d2783",
   "metadata": {},
   "source": [
    "Визуализируем распределение вин по уровню алкоголя и пролина при помощи диаграммы рассеяния и расскрасим точки в соответствии с виноградниками."
   ]
  },
  {
   "cell_type": "code",
   "execution_count": 6,
   "id": "78b817c5-b07c-4ff0-bb2a-adf5fcc05208",
   "metadata": {},
   "outputs": [
    {
     "data": {
      "image/png": "[encoded data removed]",
      "text/plain": [
       "<Figure size 581.625x360 with 1 Axes>"
      ]
     },
     "metadata": {},
     "output_type": "display_data"
    }
   ],
   "source": [
    "sns.lmplot(\n",
    "    x=\"alcohol\", y=\"proline\", data=wine_ready, fit_reg=False, hue='CLASS', legend=True, height=5, aspect=1.5\n",
    ");"
   ]
  },
  {
   "cell_type": "markdown",
   "id": "6f86dfa6-29ac-4c04-9ad5-87767ed0a532",
   "metadata": {},
   "source": [
    "Кажется, невооруженным взглядом видно, что виноградники производят отличающиеся группы вин. И можно придумать какое-то правило (или границу), по которой можно было провести отсечение: что вот всё, что тут, мы будем считать произведенным на первом винограднике, а всё, что там, мы будем считать – на втором винограднике."
   ]
  },
  {
   "cell_type": "code",
   "execution_count": 7,
   "id": "52610024-f048-4579-9b96-44b91f1f5151",
   "metadata": {},
   "outputs": [],
   "source": [
    "from sklearn.linear_model import LogisticRegression"
   ]
  },
  {
   "cell_type": "code",
   "execution_count": 8,
   "id": "06d7db13-6905-4a3b-b8b3-f5d36623e967",
   "metadata": {},
   "outputs": [],
   "source": [
    "X = wine_ready[['alcohol', 'proline']]\n",
    "y = wine_ready['CLASS']"
   ]
  },
  {
   "cell_type": "code",
   "execution_count": 9,
   "id": "5f61b4c2-a57c-4b3c-9a30-81275d8ca3d7",
   "metadata": {},
   "outputs": [],
   "source": [
    "clf = LogisticRegression(random_state=21).fit(X, y) #обучим модель"
   ]
  },
  {
   "cell_type": "code",
   "execution_count": 10,
   "id": "ff68fc70-ccd3-4ccf-9582-3c8c0c388887",
   "metadata": {},
   "outputs": [
    {
     "data": {
      "text/plain": [
       "array([[-2.07000729, -0.01197466]])"
      ]
     },
     "execution_count": 10,
     "metadata": {},
     "output_type": "execute_result"
    }
   ],
   "source": [
    "clf.coef_ #посмотрим на коэффициенты при получившейся регрессии"
   ]
  },
  {
   "cell_type": "markdown",
   "id": "9518f78d-5c4c-4c6a-8c0f-ca6efa0df4d9",
   "metadata": {},
   "source": [
    "Один коэффициент получился большим, а второй маленьким. Разница в 200 раз. Это может быть не очень хорошо. Проблема в том, что изначально наши признаки находились в разных шкалах по размеру. Лучше их привести в какую-то одну общую размерность."
   ]
  },
  {
   "cell_type": "code",
   "execution_count": 11,
   "id": "fc844b56-13c6-44a6-9e0b-5220059cd7ae",
   "metadata": {},
   "outputs": [],
   "source": [
    "from sklearn.preprocessing import StandardScaler"
   ]
  },
  {
   "cell_type": "code",
   "execution_count": 12,
   "id": "be2f582d-706b-4bb5-bbc9-9a47dbff68f8",
   "metadata": {},
   "outputs": [],
   "source": [
    "\n",
    "X2 = scaler.fit_transform(X) #сделаем стандартизацию наших признаков"
   ]
  },
  {
   "cell_type": "code",
   "execution_count": 13,
   "id": "fea89ee5-f169-4805-a442-bfeb17d524be",
   "metadata": {},
   "outputs": [
    {
     "data": {
      "text/plain": [
       "array([[ 1.452455  ,  0.782868  ],\n",
       "       [ 0.28906609,  0.74015178],\n",
       "       [ 0.24388594,  1.12459784],\n",
       "       [ 1.61058554,  1.96468369],\n",
       "       [ 0.33424624, -0.15688904]])"
      ]
     },
     "execution_count": 13,
     "metadata": {},
     "output_type": "execute_result"
    }
   ],
   "source": [
    "X2[:5]"
   ]
  },
  {
   "cell_type": "markdown",
   "id": "98fc3489-f392-4279-ab5f-40d7f400f264",
   "metadata": {},
   "source": [
    "Как видно, признаки теперь у нас находятся примерно в одной какой-то шкале. Лог. регрессии будет теперь проще подобрать коэффициенты, которые при этом будут тоже примерно находится в одной размерности."
   ]
  },
  {
   "cell_type": "code",
   "execution_count": 14,
   "id": "ce1dd28b-8678-41b1-abf0-c6088c25ba56",
   "metadata": {},
   "outputs": [],
   "source": [
    "clf2 = LogisticRegression(random_state=21).fit(X2, y)"
   ]
  },
  {
   "cell_type": "code",
   "execution_count": 15,
   "id": "63eb1f0a-7a88-459b-93e3-4abdcc43e061",
   "metadata": {},
   "outputs": [
    {
     "data": {
      "text/plain": [
       "array([[-2.09192663, -2.4554651 ]])"
      ]
     },
     "execution_count": 15,
     "metadata": {},
     "output_type": "execute_result"
    }
   ],
   "source": [
    "clf2.coef_"
   ]
  },
  {
   "cell_type": "markdown",
   "id": "db13e11f-af6a-41fa-8c1e-04495c7a18c9",
   "metadata": {},
   "source": [
    "Сейчас будет много кода для того, чтобы построить красивый график. Этот кусок кода тебе в самостоятельной части не понадобится, поэтому можно на нем сильно не заострять внимание."
   ]
  },
  {
   "cell_type": "code",
   "execution_count": 16,
   "id": "156b1ee4-6185-4041-a4ab-a8d3086eba4b",
   "metadata": {},
   "outputs": [
    {
     "data": {
      "image/png": "[encoded data removed]",
      "text/plain": [
       "<Figure size 864x576 with 1 Axes>"
      ]
     },
     "metadata": {},
     "output_type": "display_data"
    }
   ],
   "source": [
    "plt.figure(figsize=(12,8))\n",
    "a = plt.scatter(X2[:, 0], X2[:, 1], c=y, s=30, cmap='flag')\n",
    "\n",
    "# plot the decision function\n",
    "ax = plt.gca()\n",
    "xlim = ax.get_xlim()\n",
    "ylim = ax.get_ylim()\n",
    "\n",
    "# create grid to evaluate model\n",
    "xx = np.linspace(xlim[0], xlim[1], 30)\n",
    "yy = np.linspace(ylim[0], ylim[1], 30)\n",
    "YY, XX = np.meshgrid(yy, xx)\n",
    "xy = np.vstack([XX.ravel(), YY.ravel()]).T\n",
    "Z = clf2.decision_function(xy).reshape(XX.shape)\n",
    "# plot decision boundary and margins\n",
    "ax.contour(XX, YY, Z, colors='k', levels=[0], alpha=0.5,\n",
    "           linestyles=['--', '-', '--'])\n",
    "plt.legend(handles=a.legend_elements()[0], labels=['0', '1'], loc='upper left');"
   ]
  },
  {
   "cell_type": "markdown",
   "id": "de2c4d61-225f-4495-a2e0-393e7584c092",
   "metadata": {},
   "source": [
    "Что сделала лог. регрессия? По сути в геометрическом смысле она предложила провести прямую линию, которая наилучшим образом отсекает точки двух классов. Всё, что ниже и левее этой линии считаем черными точками, а то, что правее и выше – красными. Да, правило неидеальное – местами есть ошибки: какие-то черные точки мы считаем красными, и наоборот. Но в общем и целом модель неплохо справилась с этим."
   ]
  },
  {
   "cell_type": "markdown",
   "id": "c0142202-6c4a-497b-af12-eb42ece35602",
   "metadata": {},
   "source": [
    "Давай попробуем померить качество модели в каком-то числовом виде, а не только взглядом на график. Есть метрика `accuracy`, которая показывает % случаев, в которых модель верно угадала класс, по отношению к общему количеству наблюдений."
   ]
  },
  {
   "cell_type": "code",
   "execution_count": 17,
   "id": "49dcceec-ee56-4cf7-bd30-af67a67402c1",
   "metadata": {},
   "outputs": [
    {
     "data": {
      "text/plain": [
       "96.15384615384616"
      ]
     },
     "execution_count": 17,
     "metadata": {},
     "output_type": "execute_result"
    }
   ],
   "source": [
    "clf2.score(X2, y) * 100"
   ]
  },
  {
   "cell_type": "markdown",
   "id": "5cfb57c0-86a4-46f1-adc1-46a7645f0185",
   "metadata": {},
   "source": [
    "В 96% случаев модель справилась с предсказанием хорошо. Эта метрика может быть обманчивой, если классы несбалансированы. Например, у тебя и так 95% наблюдений – это один и тот же класс. Модель может просто все точки покрасить в один цвет сразу и получить высокий уровень качества, но на самом деле она справилась недостаточно хорошо. Про более сложные метрики поговорим потом. Пока достаточно и этой."
   ]
  }
 ],
 "metadata": {
  "kernelspec": {
   "display_name": "Python 3 (ipykernel)",
   "language": "python",
   "name": "python3"
  },
  "language_info": {
   "codemirror_mode": {
    "name": "ipython",
    "version": 3
   },
   "file_extension": ".py",
   "mimetype": "text/x-python",
   "name": "python",
   "nbconvert_exporter": "python",
   "pygments_lexer": "ipython3",
   "version": "3.9.7"
  }
 },
 "nbformat": 4,
 "nbformat_minor": 5
}
